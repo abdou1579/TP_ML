{
  "nbformat": 4,
  "nbformat_minor": 0,
  "metadata": {
    "colab": {
      "provenance": [],
      "collapsed_sections": []
    },
    "kernelspec": {
      "name": "python3",
      "display_name": "Python 3"
    },
    "language_info": {
      "name": "python"
    }
  },
  "cells": [
    {
      "cell_type": "markdown",
      "source": [
        "# Machine Learning\n",
        "# Compte rendu : PCA\n",
        "# Binome :\n",
        "### GUIR Abdelbaki / Meridja Adel"
      ],
      "metadata": {
        "id": "7BQKh3Nv0v0V"
      }
    },
    {
      "cell_type": "markdown",
      "source": [
        "# Exercise #1. PCA \n",
        "\n",
        "This first example allows you to go through PCA step by step.\n",
        "It is applied on the data of student marks presented during the course.\n",
        "\n",
        "---\n",
        "\n",
        "Rappel des étapes de l'ACP :\n",
        "\n",
        "- Centrer et réduire les données X\n",
        "- Calculer la matrice de covariance des données : X.T * X\n",
        "- Calculer les valeurs et vecteurs propres de la matrice de covariance.\n",
        "- Ordonner les couples (valeur propre : a_i, vecteur propres : v_i) par ordre décroissant des valeurs propres.\n",
        "- Garder les q premiers couples afin de construire la matrice V = [v1 v2 … vq].\n",
        "- Ici : la valeur propres a_i est égale à l'inertie portée par l'axe v_i.\n"
      ],
      "metadata": {
        "id": "AdqBKogzzeqF"
      }
    },
    {
      "cell_type": "markdown",
      "source": [
        "#### importing the necessary libraries"
      ],
      "metadata": {
        "id": "tbB6DgOA-o6V"
      }
    },
    {
      "cell_type": "code",
      "execution_count": 2,
      "metadata": {
        "id": "LWPYLnP8wva6"
      },
      "outputs": [],
      "source": [
        "import pandas as pd\n",
        "import numpy as np\n",
        "from sklearn import preprocessing\n",
        "from sklearn.preprocessing import normalize \n",
        "import matplotlib as mpl\n",
        "import matplotlib.pyplot as plt\n",
        "import seaborn as sns"
      ]
    },
    {
      "cell_type": "code",
      "source": [
        "df = pd.read_csv(\"notes.csv\")\n",
        "X = df.iloc[:, 1:].values     # The Original matrix. Each row is an 4 dim figures.\n",
        "names = df.iloc[:, :1].values # The name of the student.\n",
        "print(names.T)"
      ],
      "metadata": {
        "colab": {
          "base_uri": "https://localhost:8080/"
        },
        "id": "XgyLAou9xn0w",
        "outputId": "4918212a-760e-41d8-f520-476bccd2d5e2"
      },
      "execution_count": 4,
      "outputs": [
        {
          "output_type": "stream",
          "name": "stdout",
          "text": [
            "[['jean' 'alan' 'anni' 'moni' 'didi' 'andr' 'pier' 'brig' 'evel']]\n"
          ]
        }
      ]
    },
    {
      "cell_type": "markdown",
      "source": [
        "## Standardisation of X\n",
        "Standardization refers to shifting the distribution of each attribute to have a mean of zero and a standard deviation of one (unit variance). It is useful to standardize attributes for a model. Standardization of datasets is a common requirement for many machine learning estimators implemented in scikit-learn; they might behave badly if the individual features do not more or less look like standard normally distributed data"
      ],
      "metadata": {
        "id": "DrsPfSw80kO1"
      }
    },
    {
      "cell_type": "code",
      "source": [
        "std_scale = preprocessing.StandardScaler().fit(X)\n",
        "Xn = std_scale.transform(X)\n",
        "Xn"
      ],
      "metadata": {
        "colab": {
          "base_uri": "https://localhost:8080/"
        },
        "id": "ATVi4P1F0lSD",
        "outputId": "bcac1c17-ffbc-4d05-c972-9c7362668410"
      },
      "execution_count": 5,
      "outputs": [
        {
          "output_type": "execute_result",
          "data": {
            "text/plain": [
              "array([[-1.08650256, -1.28173989, -1.50366322, -1.61940264],\n",
              "       [-0.4938648 , -0.61300603, -0.63985669, -0.73070607],\n",
              "       [-1.08650256, -0.94737296,  0.22394984, -0.19748813],\n",
              "       [ 1.43220792,  1.560379  ,  1.51965963,  1.75764432],\n",
              "       [ 1.28404848,  1.39319553,  0.51188535,  0.86894776],\n",
              "       [ 0.39509184,  0.05572782, -1.35969546, -1.0861847 ],\n",
              "       [-1.234662  , -0.94737296,  1.08775637,  0.51346913],\n",
              "       [ 0.9877296 ,  0.89164514, -0.49588893, -0.19748813],\n",
              "       [-0.19754592, -0.11145564,  0.65585311,  0.69120844]])"
            ]
          },
          "metadata": {},
          "execution_count": 5
        }
      ]
    },
    {
      "cell_type": "markdown",
      "source": [
        "Compute and print the mean and the standard deviation of the transformed data (Xn) using \"np.mean\" and \"np.std\". What do you notice?"
      ],
      "metadata": {
        "id": "dqyrFG031GQF"
      }
    },
    {
      "cell_type": "code",
      "source": [
        "print(\"mean of Xn = \", (np.mean(Xn, axis=0))) \n",
        "print(\"standard deviation of Xn = \", (np.std(Xn, axis=0))) "
      ],
      "metadata": {
        "colab": {
          "base_uri": "https://localhost:8080/"
        },
        "id": "aJHfGiAC1HIu",
        "outputId": "a3116a88-3580-4ac4-9d01-9cdeb0cabd81"
      },
      "execution_count": 6,
      "outputs": [
        {
          "output_type": "stream",
          "name": "stdout",
          "text": [
            "la moyenne de Xn =  [ 1.81953218e-16 -2.20502629e-16  2.34380416e-16  2.46716228e-17]\n",
            "l'ecart type de Xn =  [1. 1. 1. 1.]\n"
          ]
        }
      ]
    },
    {
      "cell_type": "markdown",
      "source": [
        "We notice that the standard deviation is equal to 1 in most cases which means that the data is normalised\n",
        "therefore, the mean goes to 0 which means the data is centered"
      ],
      "metadata": {
        "id": "DSW9fiV-R6Xa"
      }
    },
    {
      "cell_type": "markdown",
      "source": [
        "### Computing the covariance matrix\n",
        "\n",
        "We could use Numpy :\n",
        "- cov_mat = np.cov(...)\n",
        "\n",
        "or directly as follows...\n",
        "- cov_mat = Xn.T.dot(Xn) / (Xn.shape[0]-1)\n",
        "\n",
        "Check both implementations and compare the results."
      ],
      "metadata": {
        "id": "P2NN4lOW1w89"
      }
    },
    {
      "cell_type": "code",
      "source": [
        "# COMPLETE THE CODE HERE\n",
        "cov_mat = np.cov(Xn.T)\n",
        "print('Covariance matrix shape: ',cov_mat.shape)\n",
        "print('Covariance matrix \\n%s' %cov_mat)"
      ],
      "metadata": {
        "colab": {
          "base_uri": "https://localhost:8080/"
        },
        "id": "kabW-Cmk1xXW",
        "outputId": "11ade684-64bb-498a-c9d8-dc346fc568e6"
      },
      "execution_count": null,
      "outputs": [
        {
          "output_type": "stream",
          "name": "stdout",
          "text": [
            "Covariance matrix shape:  (4, 4)\n",
            "Covariance matrix \n",
            "[[1.125      1.10535269 0.25507342 0.57166198]\n",
            " [1.10535269 1.125      0.44627989 0.73297183]\n",
            " [0.25507342 0.44627989 1.125      1.07010647]\n",
            " [0.57166198 0.73297183 1.07010647 1.125     ]]\n"
          ]
        }
      ]
    },
    {
      "cell_type": "markdown",
      "source": [
        "### we can notice that the shape is 4*4 which is n = 4"
      ],
      "metadata": {
        "id": "qqY7Rjpi2Iyn"
      }
    },
    {
      "cell_type": "markdown",
      "source": [
        "## Eigen decomposition of the covariance matrix\n",
        "\n",
        "Here, the function \"eig\" from the linear algebra package of Numpy can be used (\"np.linalg\")\n"
      ],
      "metadata": {
        "id": "-JSGu6sO3QsE"
      }
    },
    {
      "cell_type": "code",
      "source": [
        "# COMPLETE THE CODE HERE\n",
        "eig_vals, eig_vecs = np.linalg.eig(cov_mat)\n",
        "\n",
        "print('Eigenvectors shape: ', eig_vecs.shape)\n",
        "print('Eigenvalues shape: ', eig_vals.shape)\n",
        "print(\"eigen values are : \",eig_vals)\n",
        "print(\"eigen vectors are : \",eig_vecs)"
      ],
      "metadata": {
        "colab": {
          "base_uri": "https://localhost:8080/"
        },
        "id": "KxQCpE9h2S74",
        "outputId": "d34d92ef-8d72-4bcf-acfb-df98adfc53df"
      },
      "execution_count": null,
      "outputs": [
        {
          "output_type": "stream",
          "name": "stdout",
          "text": [
            "Eigenvectors shape:  (4, 4)\n",
            "Eigenvalues shape:  (4,)\n",
            "eigen values are :  [3.23514762e+00 1.25964828e+00 1.17930919e-03 4.02478885e-03]\n",
            "eigen vectors are :  [[-0.47845402 -0.55194891  0.65222562  0.20257316]\n",
            " [-0.53191716 -0.40680183 -0.59742507 -0.44120255]\n",
            " [-0.44393038  0.62123362  0.36542644 -0.53240785]\n",
            " [-0.53951061  0.37938563 -0.29008368  0.69343082]]\n"
          ]
        }
      ]
    },
    {
      "cell_type": "code",
      "source": [
        "# Make a list of (eigenvalue, eigenvector) tuples\n",
        "eig_pairs = [(np.abs(eig_vals[i]), eig_vecs[:,i]) for i in range(len(eig_vals))]\n",
        "\n",
        "# Sort the (eigenvalue, eigenvector) tuples from high to low\n",
        "eig_pairs.sort(key=lambda x: x[0], reverse=True)\n",
        "\n",
        "# Visually confirm that the list is correctly sorted by decreasing eigenvalues\n",
        "print('Eigenvalues in descending order (All the eigenvalues):')\n",
        "for tup in eig_pairs[:len(eig_vals)]:\n",
        "    print(tup[0])"
      ],
      "metadata": {
        "colab": {
          "base_uri": "https://localhost:8080/"
        },
        "id": "aVl8d7Go3ZBV",
        "outputId": "c4dfdbfa-bd69-4e9c-c8b4-2693895a7a0e"
      },
      "execution_count": null,
      "outputs": [
        {
          "output_type": "stream",
          "name": "stdout",
          "text": [
            "Eigenvalues in descending order (All the eigenvalues):\n",
            "3.235147617959651\n",
            "1.2596482840056908\n",
            "0.004024788846949922\n",
            "0.0011793091877088972\n"
          ]
        }
      ]
    },
    {
      "cell_type": "markdown",
      "source": [
        "We can see that the two first eigen values are relatively bigger than the last two, we can say that the principal features that has much amount of informations\n",
        "\n",
        "\n",
        "\n"
      ],
      "metadata": {
        "id": "kZADOvmw4c9N"
      }
    },
    {
      "cell_type": "code",
      "source": [
        "percentage = (3.235147617959651 + 1.2596482840056908)/(3.235147617959651 + 1.2596482840056908 + 0.004024788846949922 + 0.0011793091877088972)\n",
        "print(\"percentage of the two axis is : \",percentage*100,\"%\")"
      ],
      "metadata": {
        "colab": {
          "base_uri": "https://localhost:8080/"
        },
        "id": "P6aew5_T4px0",
        "outputId": "cee55bde-7bf6-4541-a8e4-c4426e85815c"
      },
      "execution_count": null,
      "outputs": [
        {
          "output_type": "stream",
          "name": "stdout",
          "text": [
            "percentage of the two axis is :  99.88435337700759 %\n"
          ]
        }
      ]
    },
    {
      "cell_type": "markdown",
      "source": [
        "### the relation between eigen values and the covariance matrix is that the sum of the eigen values equal to the sum of the diagonal elements of the matrix which is : 4.5 which represents the global inertie."
      ],
      "metadata": {
        "id": "3nnD5CM67v52"
      }
    },
    {
      "cell_type": "markdown",
      "source": [
        "## Explained Variance \n",
        "After sorting the eigenpairs, the next question is \"how many principal components are we going to choose for our new feature subspace?\" A useful measure is the so-called \"explained variance,\" which can be calculated from the eigenvalues. The explained variance tells us how much information (variance) can be attributed to each of the principal components."
      ],
      "metadata": {
        "id": "1a8F7hay5Qfr"
      }
    },
    {
      "cell_type": "code",
      "source": [
        "tot_ev = sum(eig_vals)\n",
        "var_exp = [(cur_ev / tot_ev)*100 for cur_ev in sorted(eig_vals, reverse=True)]\n",
        "\n",
        "print(var_exp[:10])"
      ],
      "metadata": {
        "colab": {
          "base_uri": "https://localhost:8080/"
        },
        "id": "hJArDAsD5Q-8",
        "outputId": "033fe394-ad7c-44fc-9638-6c6ec7186219"
      },
      "execution_count": null,
      "outputs": [
        {
          "output_type": "stream",
          "name": "stdout",
          "text": [
            "[71.89216928799225, 27.992184089015353, 0.0894397521544427, 0.026206870837975495]\n"
          ]
        }
      ]
    },
    {
      "cell_type": "markdown",
      "source": [
        "## plotting"
      ],
      "metadata": {
        "id": "pp4S_AbN7EC8"
      }
    },
    {
      "cell_type": "code",
      "source": [
        "num_eig_val = 4\n",
        "\n",
        "plt.figure(figsize=(6, 4))\n",
        "plt.bar(range(num_eig_val), var_exp[:num_eig_val], alpha=0.5, label='Individual explained variance ratio (%)')\n",
        "plt.ylabel('Explained variance ratio (%)')\n",
        "plt.xlabel('Principal components')\n",
        "plt.legend(loc='best')\n",
        "plt.tight_layout()"
      ],
      "metadata": {
        "colab": {
          "base_uri": "https://localhost:8080/",
          "height": 297
        },
        "id": "odYkFnpQ7FhP",
        "outputId": "013a616c-16b7-4df9-e911-4fc9288cb782"
      },
      "execution_count": null,
      "outputs": [
        {
          "output_type": "display_data",
          "data": {
            "text/plain": [
              "<Figure size 432x288 with 1 Axes>"
            ],
            "image/png": "[encoded data removed]"
          },
          "metadata": {
            "needs_background": "light"
          }
        }
      ]
    },
    {
      "cell_type": "markdown",
      "source": [
        "## Projection matrix\n",
        "\n",
        "The construction of the projection matrix that will be used to transform the initial data onto the new feature subspace. \n",
        "\n",
        "In the present case, only 1st and 2nd principal component shares the most inmportant part of information.\n",
        "\n",
        "Hence, we can drop other components. Here, we are reducing the 4-dimensional feature space to a 2-dimensional feature subspace, by choosing the “top 2” eigenvectors with the highest eigenvalues to construct our d×k-dimensional eigenvector matrix W"
      ],
      "metadata": {
        "id": "FwlI29JF7Pzu"
      }
    },
    {
      "cell_type": "code",
      "source": [
        "W = np.hstack((eig_pairs[0][1].reshape(4,1), \n",
        "               eig_pairs[1][1].reshape(4,1)\n",
        "            ))\n",
        "print('Matrix W shape :\\n', W.shape)"
      ],
      "metadata": {
        "colab": {
          "base_uri": "https://localhost:8080/"
        },
        "id": "ZZbdxMnj7QMr",
        "outputId": "b16570b2-e075-46c1-8788-06f09dedda54"
      },
      "execution_count": null,
      "outputs": [
        {
          "output_type": "stream",
          "name": "stdout",
          "text": [
            "Matrix W shape :\n",
            " (4, 2)\n"
          ]
        }
      ]
    },
    {
      "cell_type": "markdown",
      "source": [
        "## Projection into the New Feature Space (of reduced dimension)\n",
        "In this last step, we will use the 4×2-dimensional projection matrix W to transform our original vectors (Xstd : 9x4) in the new subspace\n",
        "\n",
        "Xproj = X × W"
      ],
      "metadata": {
        "id": "NKC93oQp8H3a"
      }
    },
    {
      "cell_type": "code",
      "source": [
        "# COMPLETE THE CODE HERE\n",
        "Xproj = np.dot(X,W)\n",
        "print(Xproj.shape)"
      ],
      "metadata": {
        "colab": {
          "base_uri": "https://localhost:8080/"
        },
        "id": "sZjULOZv8IRF",
        "outputId": "e25bdeaa-6f5e-40eb-d315-629c6c1bbdb3"
      },
      "execution_count": null,
      "outputs": [
        {
          "output_type": "stream",
          "name": "stdout",
          "text": [
            "(9, 2)\n"
          ]
        }
      ]
    },
    {
      "cell_type": "markdown",
      "source": [
        "the new matrix is consisted of two new features for the 9 students"
      ],
      "metadata": {
        "id": "r7hNRclg8p2F"
      }
    },
    {
      "cell_type": "code",
      "source": [
        "plt.plot(Xproj[:,0], Xproj[:,1], 'bo')\n",
        "plt.ylabel('Axe 2')\n",
        "plt.xlabel('Axe 1')\n",
        "\n",
        "i=0;\n",
        "for x,y in zip(Xproj[:,0],Xproj[:,1]):\n",
        "        plt.annotate(names[i,0], (x,y), textcoords=\"offset points\",\n",
        "                 xytext=(0,10), # distance from text to points (x,y)\n",
        "                 ha='center') # horizontal alignment can be left, right or center\n",
        "        i = i+1\n",
        "plt.show()"
      ],
      "metadata": {
        "colab": {
          "base_uri": "https://localhost:8080/",
          "height": 287
        },
        "id": "5VltR1-p8vbs",
        "outputId": "e0d47dd7-5d64-4a49-b088-e0fb7ceca881"
      },
      "execution_count": null,
      "outputs": [
        {
          "output_type": "display_data",
          "data": {
            "text/plain": [
              "<Figure size 432x288 with 1 Axes>"
            ],
            "image/png": "[encoded data removed]"
          },
          "metadata": {
            "needs_background": "light"
          }
        }
      ]
    },
    {
      "cell_type": "code",
      "source": [
        "from sklearn.decomposition import PCA\n",
        "from sklearn import decomposition\n",
        "\n",
        "# COMPLETE THE CODE HERE\n",
        "pca = PCA(n_components=2)\n",
        "Xproj2 = pca.fit(Xn).transform(Xn)\n",
        "print(Xproj2.shape)"
      ],
      "metadata": {
        "colab": {
          "base_uri": "https://localhost:8080/"
        },
        "id": "VSDgEscI8yEk",
        "outputId": "a39b51e3-27f3-4897-ead8-e12458550055"
      },
      "execution_count": null,
      "outputs": [
        {
          "output_type": "stream",
          "name": "stdout",
          "text": [
            "(9, 2)\n"
          ]
        }
      ]
    },
    {
      "cell_type": "code",
      "source": [
        "print(pca.explained_variance_)\n",
        "\n",
        "print('Xproj2:', Xproj2[:4,])\n",
        "\n",
        "ev = [cur_ev for cur_ev in sorted(eig_vals, reverse=True)]\n",
        "print(ev[:4])\n",
        "\n",
        "print('Xproj:', Xproj[:4,])"
      ],
      "metadata": {
        "colab": {
          "base_uri": "https://localhost:8080/"
        },
        "id": "SrLwWEJT9uUm",
        "outputId": "f0197040-42fc-4d36-910b-9d02124c2205"
      },
      "execution_count": null,
      "outputs": [
        {
          "output_type": "stream",
          "name": "stdout",
          "text": [
            "[3.23514762 1.25964828]\n",
            "Xproj2: [[-2.74282765 -0.42739619]\n",
            " [-1.24063553 -0.15275975]\n",
            " [-1.03089425  1.04928798]\n",
            " [ 3.13812885  0.18561802]]\n",
            "[3.235147617959651, 1.2596482840056908, 0.004024788846949922, 0.0011793091877088972]\n",
            "Xproj: [[-11.24918736  -0.55971542]\n",
            " [-15.9504974    0.33494802]\n",
            " [-16.60272927   4.27842698]\n",
            " [-29.62396223   1.41801972]]\n"
          ]
        }
      ]
    },
    {
      "cell_type": "markdown",
      "source": [
        "### We can notice that the eigen values of the two projections are almost the same, with a small error"
      ],
      "metadata": {
        "id": "ICdQPY9D-VO8"
      }
    },
    {
      "cell_type": "markdown",
      "source": [
        "# Conclusion\n",
        "we noticed that there is an inverted sign in the 1st column of Xproj2 and Xproj, this negative sign is caused by the fact that director vector is characterized by 2 senses one positive and the other negative.\n",
        "This first part allowed us to make an PCA on a real example, step by step is by coding each step separately then using the sklearn.decomposition library which allowed us to obtain the same result in two lines of code\n",
        "\n"
      ],
      "metadata": {
        "id": "8BJgz-1hCT6Z"
      }
    },
    {
      "cell_type": "code",
      "source": [
        "plt.plot(Xproj2[:,0], Xproj2[:,1], 'bo'),plt.title(\"With PCA directly\")\n",
        "plt.ylabel('Axe 2')\n",
        "plt.xlabel('Axe 1')\n",
        "\n",
        "i=0;\n",
        "for x,y in zip(Xproj2[:,0],Xproj2[:,1]):\n",
        "        plt.annotate(names[i,0], (x,y), textcoords=\"offset points\",\n",
        "                 xytext=(0,10), # distance from text to points (x,y)\n",
        "                 ha='center') # horizontal alignment can be left, right or center\n",
        "        i = i+1\n",
        "plt.show()\n",
        "plt.plot(Xproj[:,0], Xproj[:,1], 'bo'),plt.title(\"old school calculations\")\n",
        "plt.ylabel('Axe 2')\n",
        "plt.xlabel('Axe 1')\n",
        "\n",
        "i=0;\n",
        "for x,y in zip(Xproj[:,0],Xproj[:,1]):\n",
        "        plt.annotate(names[i,0], (x,y), textcoords=\"offset points\",\n",
        "                 xytext=(0,10), # distance from text to points (x,y)\n",
        "                 ha='center') # horizontal alignment can be left, right or center\n",
        "        i = i+1\n",
        "plt.show()"
      ],
      "metadata": {
        "id": "306L3m9JCZLx",
        "outputId": "6a92f6a9-70f5-4f99-cbb3-122684269d85",
        "colab": {
          "base_uri": "https://localhost:8080/",
          "height": 573
        }
      },
      "execution_count": null,
      "outputs": [
        {
          "output_type": "display_data",
          "data": {
            "text/plain": [
              "<Figure size 432x288 with 1 Axes>"
            ],
            "image/png": "[encoded data removed]"
          },
          "metadata": {
            "needs_background": "light"
          }
        },
        {
          "output_type": "display_data",
          "data": {
            "text/plain": [
              "<Figure size 432x288 with 1 Axes>"
            ],
            "image/png": "[encoded data removed]"
          },
          "metadata": {
            "needs_background": "light"
          }
        }
      ]
    },
    {
      "cell_type": "markdown",
      "source": [
        "We can notice that the projection matrices (Xproj2 and the one in the cours) are identical but the (\"eigen values, covariance matrix\") are not the same because in the course we haven't done the standarisation.(centrage et réduction).."
      ],
      "metadata": {
        "id": "P-wYbexYPfO6"
      }
    },
    {
      "cell_type": "code",
      "source": [],
      "metadata": {
        "id": "peSYkvMYP0zr"
      },
      "execution_count": null,
      "outputs": []
    }
  ]
}